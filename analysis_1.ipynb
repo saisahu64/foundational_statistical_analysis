{
 "cells": [
  {
   "cell_type": "markdown",
   "id": "da4a8d51-3474-4a87-9d65-ec397ff55a92",
   "metadata": {},
   "source": [
    "### Executing a few commands in the shell"
   ]
  },
  {
   "cell_type": "code",
   "execution_count": 3,
   "id": "e717914d-1a47-46b0-90d7-f3804c0131d3",
   "metadata": {},
   "outputs": [
    {
     "name": "stdout",
     "output_type": "stream",
     "text": [
      "Requirement already satisfied: numpy in /home/sai-sahu/self/projects/ds/lib/python3.12/site-packages (1.26.4)\n",
      "Requirement already satisfied: matplotlib in /home/sai-sahu/self/projects/ds/lib/python3.12/site-packages (3.9.0)\n",
      "Requirement already satisfied: contourpy>=1.0.1 in /home/sai-sahu/self/projects/ds/lib/python3.12/site-packages (from matplotlib) (1.2.1)\n",
      "Requirement already satisfied: cycler>=0.10 in /home/sai-sahu/self/projects/ds/lib/python3.12/site-packages (from matplotlib) (0.12.1)\n",
      "Requirement already satisfied: fonttools>=4.22.0 in /home/sai-sahu/self/projects/ds/lib/python3.12/site-packages (from matplotlib) (4.51.0)\n",
      "Requirement already satisfied: kiwisolver>=1.3.1 in /home/sai-sahu/self/projects/ds/lib/python3.12/site-packages (from matplotlib) (1.4.5)\n",
      "Requirement already satisfied: numpy>=1.23 in /home/sai-sahu/self/projects/ds/lib/python3.12/site-packages (from matplotlib) (1.26.4)\n",
      "Requirement already satisfied: packaging>=20.0 in /home/sai-sahu/self/projects/ds/lib/python3.12/site-packages (from matplotlib) (24.0)\n",
      "Requirement already satisfied: pillow>=8 in /home/sai-sahu/self/projects/ds/lib/python3.12/site-packages (from matplotlib) (10.3.0)\n",
      "Requirement already satisfied: pyparsing>=2.3.1 in /home/sai-sahu/self/projects/ds/lib/python3.12/site-packages (from matplotlib) (3.1.2)\n",
      "Requirement already satisfied: python-dateutil>=2.7 in /home/sai-sahu/self/projects/ds/lib/python3.12/site-packages (from matplotlib) (2.9.0.post0)\n",
      "Requirement already satisfied: six>=1.5 in /home/sai-sahu/self/projects/ds/lib/python3.12/site-packages (from python-dateutil>=2.7->matplotlib) (1.16.0)\n"
     ]
    }
   ],
   "source": [
    "! pip install numpy\n",
    "! pip install matplotlib"
   ]
  },
  {
   "cell_type": "markdown",
   "id": "042fa67d-aa76-419f-8055-f2f4a2c5c1af",
   "metadata": {},
   "source": [
    "### Imports"
   ]
  },
  {
   "cell_type": "code",
   "execution_count": 4,
   "id": "f667c01e-21bc-49ec-b7e2-ee8fca1ab66e",
   "metadata": {},
   "outputs": [],
   "source": [
    "import numpy as np\n",
    "import matplotlib.pyplot as plt"
   ]
  },
  {
   "cell_type": "markdown",
   "id": "5a9996d4-f4dc-4c9d-b57e-ffc308dd585d",
   "metadata": {},
   "source": [
    "## Given the following document -\n",
    "[Link to the Doc](https://www2.census.gov/library/publications/decennial/2000/briefs/c2kbr-33.pdf)"
   ]
  },
  {
   "cell_type": "markdown",
   "id": "6a011e5a-4f2e-4272-8a57-34200e91e4e8",
   "metadata": {},
   "source": [
    "According to the histogram of travel times to work from the US 2000 census (Page 6 of \"Journey to Work: 2000\"), roughly what percentage of commuters travel more than 45 minutes?"
   ]
  },
  {
   "cell_type": "code",
   "execution_count": 1,
   "id": "b06460d0-e777-4116-ad0d-9e8b9041642b",
   "metadata": {},
   "outputs": [
    {
     "data": {
      "text/plain": [
       "19.9"
      ]
     },
     "execution_count": 1,
     "metadata": {},
     "output_type": "execute_result"
    }
   ],
   "source": [
    "7.9 + 5.8 + 3.3 + 2.9"
   ]
  },
  {
   "cell_type": "code",
   "execution_count": 2,
   "id": "e52c56ae-a563-4c82-9134-ceff914604c2",
   "metadata": {},
   "outputs": [
    {
     "data": {
      "text/plain": [
       "16.2"
      ]
     },
     "execution_count": 2,
     "metadata": {},
     "output_type": "execute_result"
    }
   ],
   "source": [
    "6.3 + 4.2 + 2.0 + 3.7"
   ]
  },
  {
   "cell_type": "code",
   "execution_count": 3,
   "id": "f8e7cdcf-4f1c-42ab-803a-22c06685738c",
   "metadata": {},
   "outputs": [
    {
     "data": {
      "text/plain": [
       "18.049999999999997"
      ]
     },
     "execution_count": 3,
     "metadata": {},
     "output_type": "execute_result"
    }
   ],
   "source": [
    "(19.9 + 16.2) / 2"
   ]
  },
  {
   "cell_type": "code",
   "execution_count": 4,
   "id": "96819942-a0fb-4c64-b924-6555640e1e7e",
   "metadata": {},
   "outputs": [
    {
     "data": {
      "text/plain": [
       "18"
      ]
     },
     "execution_count": 4,
     "metadata": {},
     "output_type": "execute_result"
    }
   ],
   "source": [
    "int(18.049999999999997)"
   ]
  },
  {
   "cell_type": "markdown",
   "id": "f80617a1-c817-4948-9e97-1884b713c2f4",
   "metadata": {},
   "source": [
    "According to the histogram of travel times to work from the US 2000 census (Page 6 of \"Journey to Work: 2000\"), approximately what is the median travel time, in minutes (i.e. 50% of commuters have at most that travel time, 50% have at least that travel time)?"
   ]
  },
  {
   "cell_type": "code",
   "execution_count": 6,
   "id": "a72a9791-9381-4acc-a6c8-47786b899194",
   "metadata": {},
   "outputs": [
    {
     "data": {
      "text/plain": [
       "54.99999999999999"
      ]
     },
     "execution_count": 6,
     "metadata": {},
     "output_type": "execute_result"
    }
   ],
   "source": [
    "3.2 + 9.7 + 13.5 + 14.7 + 13.9"
   ]
  },
  {
   "cell_type": "code",
   "execution_count": 8,
   "id": "17f42028-b5bf-47d1-8b60-8bb788e6e525",
   "metadata": {},
   "outputs": [
    {
     "data": {
      "text/plain": [
       "46.900000000000006"
      ]
     },
     "execution_count": 8,
     "metadata": {},
     "output_type": "execute_result"
    }
   ],
   "source": [
    "3.3 + 11.8 + 15.7 + 16.1"
   ]
  },
  {
   "cell_type": "markdown",
   "id": "beb55e31-1903-463f-bfb6-365702a6ffd1",
   "metadata": {},
   "source": [
    "## Effect on Mean change\n",
    "- How does the mean of a distibution change when each of the element is increaed by a certain percent?\n",
    "- How does the mean of a distribution change when each of the element is increased by a certain number? \n"
   ]
  },
  {
   "cell_type": "code",
   "execution_count": 1,
   "id": "28c09645-4bb3-43d8-a8cf-c1367978808e",
   "metadata": {},
   "outputs": [
    {
     "name": "stdout",
     "output_type": "stream",
     "text": [
      "15.4\n",
      "65.4\n",
      "424.6753246753247\n"
     ]
    }
   ],
   "source": [
    "X = [11, 13, 17, 5, 31]\n",
    "\n",
    "sum = 0\n",
    "for ele in X:\n",
    "    sum = sum + ele\n",
    "\n",
    "mean = sum / len(X)\n",
    "print(mean)\n",
    "\n",
    "\n",
    "# Increase all elements of X by 5%\n",
    "X_new = []\n",
    "for ele in X:\n",
    "    # increased_ele = ele + (ele * 80 / 100)\n",
    "    increased_ele = ele + 50\n",
    "    X_new.append(increased_ele)\n",
    "\n",
    "X = X_new\n",
    "\n",
    "sum = 0\n",
    "for ele in X:\n",
    "    sum = sum + ele\n",
    "\n",
    "mean_new = sum / len(X)\n",
    "print(mean_new)\n",
    "\n",
    "# Finding the percentage increase in mean\n",
    "percentage_increase = (mean_new / mean) * 100\n",
    "print(percentage_increase)"
   ]
  },
  {
   "cell_type": "markdown",
   "id": "430b8063-f872-4f2a-a453-41a1560eed56",
   "metadata": {},
   "source": [
    "## Effect on Median change\n",
    "- How does the median of a distibution change when each of the element is increaed by a certain percent?\n",
    "- How does the median of a distribution change when each of the element is increased by a certain number? "
   ]
  },
  {
   "cell_type": "code",
   "execution_count": 63,
   "id": "8d588172-4a57-49e2-8095-6cb96770f53b",
   "metadata": {},
   "outputs": [
    {
     "name": "stdout",
     "output_type": "stream",
     "text": [
      "[11, 13, 17, 5, 31]\n",
      "[16, 18, 22, 10, 36]\n"
     ]
    }
   ],
   "source": [
    "X = [11, 13, 17, 5, 31]\n",
    "\n",
    "# Increase all elements of X by 5%\n",
    "X_new = []\n",
    "for ele in X:\n",
    "    # increased_ele = ele + (ele * 80 / 100)\n",
    "    increased_ele = ele + 5\n",
    "    X_new.append(increased_ele)\n",
    "\n",
    "print(X)\n",
    "print(X_new)"
   ]
  },
  {
   "cell_type": "code",
   "execution_count": 29,
   "id": "a95d3380-272b-4fc3-80cf-120e58fa6cc7",
   "metadata": {},
   "outputs": [
    {
     "name": "stdout",
     "output_type": "stream",
     "text": [
      "22.0\n",
      "39.6\n",
      "180.0\n"
     ]
    }
   ],
   "source": [
    "x_1 = 15\n",
    "x_2 = 29\n",
    "\n",
    "median = (x_1 + x_2) / 2\n",
    "\n",
    "percentage_factor = 80\n",
    "\n",
    "x_1_new = x_1 + (x_1 * percentage_factor / 100)\n",
    "x_2_new = x_2 + (x_2 * percentage_factor / 100)\n",
    "\n",
    "median_new = (x_1_new + x_2_new) / 2\n",
    "\n",
    "print(median)\n",
    "print(median_new)\n",
    "\n",
    "percentage_increase = (median_new / median) * 100\n",
    "print(percentage_increase)"
   ]
  },
  {
   "cell_type": "markdown",
   "id": "4b19e935-3956-426b-ad41-9800d67f77ea",
   "metadata": {},
   "source": [
    "## Effect on Standard Deviation change\n",
    "- How does the standard deviation of a distibution change when each of the element is increaed by a certain percent?\n",
    "- How does the standard deviation of a distribution change when each of the element is increased by a certain number"
   ]
  },
  {
   "cell_type": "code",
   "execution_count": 70,
   "id": "3775b19f-705c-44ae-ba18-c534fd07265e",
   "metadata": {},
   "outputs": [
    {
     "name": "stdout",
     "output_type": "stream",
     "text": [
      "10.63202708800161\n",
      "10.63202708800161\n",
      "100.0\n"
     ]
    }
   ],
   "source": [
    "X = np.array([1, 2, 5, 29, 16])\n",
    "\n",
    "std = np.std(X)\n",
    "print(std)\n",
    "\n",
    "# Increase all elements by 5%\n",
    "# X_new = X + (X * 30 / 100)\n",
    "X_new = X + 80\n",
    "std_new = np.std(X_new)\n",
    "print(std_new)\n",
    "\n",
    "percentage_increase = (std_new / std) * 100\n",
    "print(percentage_increase)"
   ]
  },
  {
   "cell_type": "markdown",
   "id": "6188e05f-449e-42d6-ab5e-8be8a3fb3181",
   "metadata": {},
   "source": [
    "## Effect on Interquartile Range\n",
    "- How does the interquartile of a distibution change when each of the element is increaed by a certain percent?\n",
    "- How does the interquartile of a distribution change when each of the element is increased by a certain number"
   ]
  },
  {
   "cell_type": "code",
   "execution_count": 6,
   "id": "67bbac06-4868-419f-94dc-8f3bb1d29c13",
   "metadata": {},
   "outputs": [
    {
     "name": "stdout",
     "output_type": "stream",
     "text": [
      "105.0\n",
      "105.0\n",
      "100.0\n"
     ]
    }
   ],
   "source": [
    "X = np.array([1, 2, 5, 7, 9, 14, 11, 29, 50, 60, 72, 81, 105, 112, 118, 125, 122, 132, 140])\n",
    "# X_new = X + (X * 5 / 100)\n",
    "X_new = X + 25\n",
    "\n",
    "# Either way we need to evaluable the interquartile range\n",
    "q1 = np.percentile(X, 25)\n",
    "q3 = np.percentile(X, 75)\n",
    "iqr = q3 - q1\n",
    "print(iqr)\n",
    "\n",
    "# Either way we need to evaluable the interquartile range\n",
    "q1 = np.percentile(X_new, 25)\n",
    "q3 = np.percentile(X_new, 75)\n",
    "iqr_new = q3 - q1\n",
    "print(iqr_new)\n",
    "\n",
    "percentage_change = (iqr_new / iqr) * 100\n",
    "print(percentage_change)"
   ]
  },
  {
   "cell_type": "code",
   "execution_count": null,
   "id": "7087968c-9886-4cd1-be25-289c20eabf60",
   "metadata": {},
   "outputs": [],
   "source": []
  }
 ],
 "metadata": {
  "kernelspec": {
   "display_name": "Python 3 (ipykernel)",
   "language": "python",
   "name": "python3"
  },
  "language_info": {
   "codemirror_mode": {
    "name": "ipython",
    "version": 3
   },
   "file_extension": ".py",
   "mimetype": "text/x-python",
   "name": "python",
   "nbconvert_exporter": "python",
   "pygments_lexer": "ipython3",
   "version": "3.12.3"
  }
 },
 "nbformat": 4,
 "nbformat_minor": 5
}
